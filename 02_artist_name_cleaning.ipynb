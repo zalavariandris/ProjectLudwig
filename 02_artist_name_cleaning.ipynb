{
 "cells": [
  {
   "cell_type": "code",
   "execution_count": 40,
   "metadata": {},
   "outputs": [],
   "source": [
    "import re\n",
    "import os\n",
    "import json\n",
    "import networkx as nx\n",
    "from collections import Counter\n",
    "import datetime\n",
    "import matplotlib.pyplot as plt"
   ]
  },
  {
   "cell_type": "code",
   "execution_count": 108,
   "metadata": {},
   "outputs": [
    {
     "name": "stdout",
     "output_type": "stream",
     "text": [
      "Number of unique artist names:  27554\n"
     ]
    }
   ],
   "source": [
    "def get_date(s):\n",
    "    return datetime.datetime.strptime(s, '%Y-%m-%d %H:%M:%S')\n",
    "\n",
    "\n",
    "names = [line for line in open('Ikon/extracted/all_artists_raw.dat')]\n",
    "\n",
    "original2cleaned = {n : n.replace(',\\n', '') for n in names}\n",
    "\n",
    "names_cnt = {line.split('\\t')[0]+'\\n' : float(line.strip().split('\\t')[1]) for line in open('Ikon/extracted/all_artists_cnt.dat') if len(line.strip().split('\\t')) == 2}\n",
    "\n",
    "names_first = {}\n",
    "names_last  = {}\n",
    "\n",
    "for line in open('Ikon/extracted/names_min_max_date.dat'):\n",
    "    fields = line.strip().split('\\t')\n",
    "    if len(fields) == 3: \n",
    "        n, t1, t2 = fields\n",
    "        names_first[n] = get_date(t1)\n",
    "        names_last[n]  = get_date(t2)\n",
    "        \n",
    "        \n",
    "print('Number of unique artist names: ', len(names))"
   ]
  },
  {
   "cell_type": "markdown",
   "metadata": {},
   "source": [
    "### First stage: replace and drop things that are obvisouly not ok"
   ]
  },
  {
   "cell_type": "code",
   "execution_count": 109,
   "metadata": {},
   "outputs": [],
   "source": [
    "# replace these by ''\n",
    "to_replace = [\n",
    "    '..',\n",
    "    ';.',\n",
    "    '\"',\n",
    "    ')',\n",
    "    '(',\n",
    "    ',', 'művészettörténész', 'plakátművész', 'kortárs művész', 'résztvevő', 'résztvevők', \n",
    "    'képzőművész', ' művész', ' alkotó', 'filmesztéta'\n",
    "    ]\n",
    "\n",
    "\n",
    "# drop names that contain these\n",
    "to_drop = [\n",
    "    '2000',\n",
    "    '100'\n",
    "    ]"
   ]
  },
  {
   "cell_type": "code",
   "execution_count": 110,
   "metadata": {},
   "outputs": [
    {
     "name": "stdout",
     "output_type": "stream",
     "text": [
      "Pásztor Péter\n",
      " Pásztor Péter\n",
      "\n",
      "Number of unique artist names:  27554\n",
      "Number of artist names after first filter:  24578\n"
     ]
    }
   ],
   "source": [
    "cleaned2original = {}\n",
    "\n",
    "\n",
    "for original, cleaned in original2cleaned.items(): \n",
    "\n",
    "    todrop = False\n",
    "    for td in to_replace:\n",
    "        cleaned = cleaned.replace(td, '')\n",
    "    for tk in to_drop:\n",
    "        if tk in original:\n",
    "            todrop = True\n",
    "\n",
    "    if not tokill and len(cleaned) > 1:\n",
    "        original2cleaned[original] = cleaned.strip()\n",
    "        cleaned2original[cleaned.strip()] = original\n",
    "        \n",
    "for ind, (c, o) in enumerate(cleaned2original.items()):\n",
    "    if ind == 1: break\n",
    "    print(o, c)\n",
    "    \n",
    "    \n",
    "print('\\nNumber of unique artist names: ', len(names))\n",
    "print('Number of artist names after first filter: ', len(cleaned2original.keys()))"
   ]
  },
  {
   "cell_type": "markdown",
   "metadata": {},
   "source": [
    "### Second stage: group the simialr names together"
   ]
  },
  {
   "cell_type": "markdown",
   "metadata": {},
   "source": [
    "Let's do pairwise comparison between the name strings to catch different forms of the same name"
   ]
  },
  {
   "cell_type": "code",
   "execution_count": 111,
   "metadata": {},
   "outputs": [
    {
     "name": "stdout",
     "output_type": "stream",
     "text": [
      "Number of pairs above similarity score 64:  25676\n"
     ]
    },
    {
     "data": {
      "image/png": "[encoded data removed]",
      "text/plain": [
       "<Figure size 432x288 with 1 Axes>"
      ]
     },
     "metadata": {
      "needs_background": "light"
     },
     "output_type": "display_data"
    }
   ],
   "source": [
    "# pairwise comparison of all the names and computing their similarity\n",
    "# by https://pypi.org/project/Fuzzy/\n",
    "\n",
    "pairs_similarities = []\n",
    "\n",
    "files = os.listdir('Ikon/name_matching')\n",
    "sims  = []\n",
    "\n",
    "for fn in files:  \n",
    "    with open('Ikon/name_matching/' + fn) as f:\n",
    "        next(f)\n",
    "        for line in f:\n",
    "            n1, n2, score = line.strip().split('\\t')\n",
    "            pairs_similarities.append((n1, n2, float(score)))  \n",
    "            sims.append(float(score))\n",
    " \n",
    "print('Number of pairs above similarity score 64: ', len(sims))\n",
    "\n",
    "plt.hist(sims, bins = 20)\n",
    "plt.yscale('log')"
   ]
  },
  {
   "cell_type": "markdown",
   "metadata": {},
   "source": [
    "#### weighting based on frequency"
   ]
  },
  {
   "cell_type": "code",
   "execution_count": 112,
   "metadata": {},
   "outputs": [
    {
     "name": "stdout",
     "output_type": "stream",
     "text": [
      "Finnország magyarországi nagykövete Oroszország Magyarországi Nagykövete 82.0\n",
      "Finnország magyarországi nagykövete FRanciaország magyarországi nagykövete 90.0\n",
      "feLugossy László Fe Lugossy László 91.0\n",
      "tanszékvezető egyetemi tanár tanszékvezető egyetemi docens 84.0\n",
      "Vízy László Vitézy László 83.0\n",
      "Vízy László Csízy László 87.0\n"
     ]
    }
   ],
   "source": [
    "similarity_limit = 0.9\n",
    "\n",
    "for ind, (n1, n2, score) in enumerate(pairs_similarities[0:100]):\n",
    "    if score > 80:\n",
    "        a = 2\n",
    "        print(n1, n2, score)       "
   ]
  },
  {
   "cell_type": "markdown",
   "metadata": {},
   "source": [
    "#### filtering based on temporal overlaps"
   ]
  },
  {
   "cell_type": "markdown",
   "metadata": {},
   "source": [
    "Seems that 80 does not give a perfect threshold, there are mismatches but still similar enough. Let's add the time of the first and last exhibition of these individuals as features as well and see if they overlap are close enough. I also add the number of times the different variants have occurred, and the less frequent as a modified version of the more frequent if the latter occurred at least X times more often."
   ]
  },
  {
   "cell_type": "code",
   "execution_count": 114,
   "metadata": {},
   "outputs": [
    {
     "name": "stdout",
     "output_type": "stream",
     "text": [
      "412\n",
      "2005-10-20 18:00:00 2006-12-07 17:00:00\n",
      "2005-06-27 10:00:00 2017-02-11 10:30:00\n",
      "tanszékvezető egyetemi tanár 5.0 \t tanszékvezető egyetemi docens 4.0 \n",
      "\n",
      "3596\n",
      "More than  730  days of delay ( 730 )\n",
      "2019-11-26 18:00:00 2019-11-27 18:30:00\n",
      "2010-01-22 17:00:00 2010-01-22 17:00:00\n",
      "Vízy László 2.0 \t Vitézy László 1.0 \n",
      "\n",
      "1\n",
      "2019-11-26 18:00:00 2019-11-27 18:30:00\n",
      "2014-03-13 18:00:00 2019-12-14 16:00:00\n",
      "Vízy László 2.0 \t Csízy László 17.0 \n",
      "\n",
      "453\n",
      "2000-11-25 17:00:00 2017-10-21 16:00:00\n",
      "2003-04-05 12:00:00 2004-07-01 19:00:00\n",
      "KissPál Szabolcs 66.0 \t KisPál Szabolcs 3.0 \n",
      "\n",
      "603\n",
      "2009-12-16 19:00:00 2018-10-14 15:00:00\n",
      "2012-05-29 17:00:00 2014-01-22 18:00:00\n",
      "Polyák Levente 12.0 \t Polyák Levente KÉK 4.0 \n",
      "\n",
      "2651\n",
      "More than  730  days of delay ( 730 )\n",
      "2016-02-10 19:00:00 2016-02-11 19:00:00\n",
      "2008-11-07 20:00:00 2008-11-07 20:00:00\n",
      "Fisches Judit 2.0 \t Fischer Judit HU 1.0 \n",
      "\n",
      "603\n",
      "2012-05-29 17:00:00 2014-01-22 18:00:00\n",
      "2009-12-16 19:00:00 2018-10-14 15:00:00\n",
      "Polyák Levente KÉK 4.0 \t Polyák Levente 12.0 \n",
      "\n",
      "453\n",
      "2003-04-05 12:00:00 2004-07-01 19:00:00\n",
      "2000-11-25 17:00:00 2017-10-21 16:00:00\n",
      "KisPál Szabolcs 3.0 \t KissPál Szabolcs 66.0 \n",
      "\n",
      "3596\n",
      "More than  730  days of delay ( 730 )\n",
      "2010-01-22 17:00:00 2010-01-22 17:00:00\n",
      "2019-11-26 18:00:00 2019-11-27 18:30:00\n",
      "Vitézy László 1.0 \t Vízy László 2.0 \n",
      "\n",
      "1933\n",
      "More than  730  days of delay ( 730 )\n",
      "2010-05-19 19:00:00 2010-05-21 17:00:00\n",
      "2015-09-04 19:00:00 2015-09-05 10:00:00\n",
      "Szabó Márta 2.0 \t Szabó Márton 2.0 \n",
      "\n"
     ]
    }
   ],
   "source": [
    "#def intervals_overlap(s1, s2, e1, e2, delay):\n",
    "\n",
    "def getOverlap(a, b):\n",
    "    return abs((min(a[1], b[1]) - max(a[0], b[0])).days)\n",
    "\n",
    "\n",
    "delay_limit = 2*365\n",
    "\n",
    "for n1, n2, s in pairs_similarities[50:250]:\n",
    "    \n",
    "    if s > 80:\n",
    "\n",
    "        start1 = names_first[cleaned2original[n1].strip()]\n",
    "        start2 = names_first[cleaned2original[n2].strip()]\n",
    "                \n",
    "        end1 = names_last[cleaned2original[n1].strip()]\n",
    "        end2 = names_last[cleaned2original[n2].strip()]        \n",
    "        \n",
    "        cnt1 = names_cnt[cleaned2original[n1]]\n",
    "        cnt2 = names_cnt[cleaned2original[n2]]        \n",
    "        \n",
    "        delay = getOverlap([start1, end1], [start2, end2])\n",
    "        \n",
    "        print(delay)\n",
    "        if delay > delay_limit:\n",
    "            print('More than ', delay_limit, ' days of delay (', delay_limit ,')')\n",
    "\n",
    "        print(start1, end1)\n",
    "        print(start2, end2)\n",
    "        \n",
    "        print(n1, cnt1, '\\t', n2, cnt2, '\\n')\n",
    "        \n",
    "        "
   ]
  },
  {
   "cell_type": "markdown",
   "metadata": {},
   "source": [
    "It seems that e.g. in the case of Vízy and Csízy, the year-filtering is needed. However, Vízy, Vitézy, and Csízy seem to belong to the same similarity cluster, so pairwise comparisond and replacements may not be efficeient. Lets build a similarity graph!"
   ]
  },
  {
   "cell_type": "markdown",
   "metadata": {},
   "source": [
    "#### building similarity graph components"
   ]
  },
  {
   "cell_type": "code",
   "execution_count": 130,
   "metadata": {},
   "outputs": [
    {
     "name": "stdout",
     "output_type": "stream",
     "text": [
      "Number of edges:  171\n",
      "Number of similarity clusters:  160\n",
      "15.0 [('a Magyar Képzőművészeti Egyetem tanára', 2.0), ('a Magyar Képzőművészeti Egyetem rektora', 7.0), ('a Magyar Képzőművészeti Egyetem rektorhelyettese', 4.0), ('Magyar Képzőművészeti Egyetem  Budapest', 2.0)]\n",
      "73.0 [('KisPál Szabolcs', 3.0), ('KissPál Szabolcs', 66.0), ('KsPál Szabolcs', 4.0)]\n",
      "48.0 [('Beke László', 44.0), ('Beke Lászó', 2.0), ('Lenkes László', 2.0)]\n",
      "10.0 [('Mag Krisztina', 4.0), ('Vígh Krisztina', 4.0), ('Varga Krisztina', 2.0)]\n",
      "15.0 [('egyetemi tanársegéd', 2.0), ('egyetemi tanár', 11.0), ('ny. egyetemi tanár', 2.0)]\n",
      "55.0 [('Kauker Dóra', 6.0), ('maurer dóra', 2.0), ('Maurer Dóra', 47.0)]\n",
      "39.0 [('Kőnig Frigyes', 37.0), ('Kőnig Figyes', 1.0), ('Dr Kőnig Frigyes', 1.0)]\n",
      "8.0 [('Prof. König Frigyes', 2.0), ('Dr. Kőnig Frigyes', 4.0), ('prof. Kőnig Frigyes DLA', 2.0)]\n",
      "32.0 [('Swierkewicz Róbert', 2.0), ('Swierkiewicz Róbert', 27.0), ('Swierkievicz Róbert', 3.0)]\n",
      "17.0 [('Molnár Eszter', 2.0), ('Molnár Dóra Eszter', 15.0)]\n",
      "8.0 [('PETTENDI SZABÓ Péter.', 2.0), ('PETTENDI SZABÓ Péter', 6.0)]\n",
      "10.0 [('Haris László', 6.0), ('Harsányi László', 4.0)]\n",
      "16.0 [('Borsik Miklós', 4.0), ('Borsos Miklós', 12.0)]\n",
      "14.0 [('Gôbölyös Luca', 2.0), ('Göbölyös Luca', 12.0)]\n",
      "31.0 [('Kovács Kriszta', 2.0), ('Kovács Kristóf', 29.0)]\n",
      "8.0 [('Hídvégi Áron', 1.0), ('Hidvégi Áron', 7.0)]\n",
      "24.0 [('Igor és Ivan Buharov', 20.0), ('Igor és Iván Buharov', 4.0)]\n",
      "9.0 [('Miksa Bálint', 7.0), ('Miska Bálint', 2.0)]\n",
      "10.0 [('Orsos Laszlo Jakab', 4.0), ('Orsós László Jakab', 6.0)]\n",
      "9.0 [('Tóth József', 5.0), ('A. Tóth József', 4.0)]\n",
      "41.0 [('Kútvölgyi- Szabó Áron', 2.0), ('Kútvölgyi-Szabó Áron', 39.0)]\n",
      "8.0 [('Bácsi Barnabás', 6.0), ('Balázs Barnabás', 2.0)]\n",
      "9.0 [('G.Szabó Beáta', 7.0), ('G. Szabó Beáta', 2.0)]\n",
      "67.0 [('Német Szilvi', 65.0), ('Németh Szilvi', 2.0)]\n",
      "8.0 [('rendezo', 2.0), ('rendező', 6.0)]\n",
      "43.0 [('Martinkó Márk', 41.0), ('Martinecz Márk', 2.0)]\n",
      "12.0 [('Kiss Anna', 10.0), ('Kiss Antal', 2.0)]\n",
      "18.0 [('Hámori Anett Irén', 2.0), ('Hámori Anett', 16.0)]\n",
      "21.0 [('Szarka Péter', 17.0), ('Szalai Péter', 4.0)]\n",
      "5.0 [('Alexandra Pirici', 3.0), ('Alexandra Pirici {RO}', 2.0)]\n",
      "57.0 [('Kunos Tamás', 2.0), ('Konok Tamás', 55.0)]\n",
      "19.0 [('Csízy László', 17.0), ('Vízy László', 2.0)]\n",
      "6.0 [('Gáll Attila  polgármeszter', 4.0), ('Gaal Attila  polgármeszter', 2.0)]\n",
      "18.0 [('Básthy Ágnes', 16.0), ('Básty Ágnes', 2.0)]\n",
      "5.0 [('Eva Koťátková', 4.0), ('Koťátková', 1.0)]\n",
      "51.0 [('Societe Realiste', 2.0), ('Société Réaliste', 49.0)]\n",
      "6.0 [('Barkóczy István', 2.0), ('Barkóczi István', 4.0)]\n",
      "14.0 [('Seres Szilvia', 12.0), ('Seres Szilvia DLA', 2.0)]\n",
      "9.0 [('tanszékvezető egyetemi tanár', 5.0), ('tanszékvezető egyetemi docens', 4.0)]\n",
      "10.0 [('BOROS Lőrinc', 2.0), ('BORSOS Lőrinc', 8.0)]\n",
      "20.0 [('Tóth Balázs Máté', 18.0), ('Tóth Balázs', 2.0)]\n",
      "7.0 [('Várkonyi György', 5.0), ('Károlyi György', 2.0)]\n",
      "5.0 [('Benkő Zsuzsanna', 2.0), ('Bene Zsuzsanna', 3.0)]\n",
      "7.0 [('Block csoport', 6.0), ('Blokk Csoport', 1.0)]\n",
      "11.0 [('Kertész László', 10.0), ('Keszég László', 1.0)]\n",
      "5.0 [('Deak Csillag', 2.0), ('Deák Csillag', 3.0)]\n",
      "13.0 [('Dabi-Farkas Rita', 2.0), ('Farkas Rita', 11.0)]\n",
      "18.0 [('Erlich Gábor', 16.0), ('Ulrich Gábor', 2.0)]\n",
      "15.0 [('Gaál József', 13.0), ('Hála József', 2.0)]\n",
      "69.0 [('Palkó Tibor', 67.0), ('Palkó Gábor', 2.0)]\n",
      "14.0 [('Koltai Katalin', 2.0), ('Káldi Katalin', 12.0)]\n",
      "14.0 [('Barka Gábor', 2.0), ('Bakos Gábor', 12.0)]\n",
      "9.0 [('Murányi kristóf', 2.0), ('Murányi Kristóf', 7.0)]\n",
      "6.0 [('ef. Zambó István', 2.0), ('ef. Zámbó István', 4.0)]\n",
      "9.0 [('-Hudra Klára', 2.0), ('Hudra Klára', 7.0)]\n",
      "6.0 [('nemzetközi ek', 2.0), ('nemzetköziek', 4.0)]\n",
      "37.0 [('Tomasz Piars', 35.0), ('Tomas Piars', 2.0)]\n",
      "12.0 [('El-Hassan Roza', 10.0), ('El-Hasszan Roza', 2.0)]\n",
      "12.0 [('Kiss Tanne István', 10.0), ('Kiss Tanne Isván', 2.0)]\n",
      "23.0 [('Keserü Katalin', 21.0), ('Dr.Keserü Katalin', 2.0)]\n",
      "10.0 [('Schmidt Gabriella', 8.0), ('Schmidt Gabi', 2.0)]\n",
      "14.0 [('Kovách Gergő', 8.0), ('Kováts Gergő', 6.0)]\n",
      "16.0 [('Csikós Tibor', 1.0), ('Csiky Tibor', 15.0)]\n",
      "14.0 [('Fellugossy László', 2.0), ('fe Lugossy László', 12.0)]\n",
      "6.0 [('Horváth Balázs Byron', 4.0), ('Horváth-Kertész Balázs Byron', 2.0)]\n",
      "5.0 [('Rosa Barba', 3.0), ('Rosa Barbra', 2.0)]\n",
      "5.0 [('Fórián Szabó Noémi', 3.0), ('Forián szabó Noémi', 2.0)]\n",
      "63.0 [('Kersztes Zsófi', 2.0), ('Keresztes Zsófia', 61.0)]\n",
      "10.0 [('Temesi Ferenc', 2.0), ('Nemes Ferenc', 8.0)]\n",
      "58.0 [('Izinger Katalin', 2.0), ('Izinger Kati', 56.0)]\n",
      "13.0 [('fotográfus', 11.0), ('Fotográfusok', 2.0)]\n",
      "9.0 [('Dimitrij Kvarga', 2.0), ('Dmitrij Kavarga', 7.0)]\n",
      "23.0 [('Kis Péter', 1.0), ('Korniss Péter', 22.0)]\n",
      "12.0 [('Márton László', 2.0), ('Márton László író', 10.0)]\n",
      "27.0 [('Bp.Szabó György', 2.0), ('Szabó György', 25.0)]\n",
      "15.0 [('Iski Kocsis Tibor', 13.0), ('iski Kocsis Tibor', 2.0)]\n",
      "25.0 [('Borsos István', 2.0), ('Bársony István', 23.0)]\n",
      "6.0 [('Dévényi Tamás', 5.0), ('Zétényi Tamás', 1.0)]\n",
      "13.0 [('Kótai Tamás', 12.0), ('Ajtai Tamás', 1.0)]\n",
      "8.0 [('Baranyai b András', 6.0), ('Baranyai B András', 2.0)]\n",
      "34.0 [('Tóth Márton Emil', 32.0), ('Tóth Márton Emil.', 2.0)]\n",
      "15.0 [('Szűcs György', 2.0), ('Szász György', 13.0)]\n",
      "9.0 [('Kardos Ferenc', 2.0), ('Marosán Ferenc', 7.0)]\n",
      "13.0 [('Halas István', 9.0), ('Harasztÿ István', 4.0)]\n",
      "6.0 [('Törő Gábor', 4.0), ('Törö Gábor', 2.0)]\n",
      "35.0 [('Erőss István', 31.0), ('Dr. Erőss István', 4.0)]\n",
      "10.0 [('Pacsika Márton', 6.0), ('Pacsika Máté', 4.0)]\n",
      "36.0 [('Lóska Lajos', 34.0), ('Lóska Lajos -', 2.0)]\n",
      "10.0 [('a kiállítás kurátora', 8.0), ('a kiállítás osztrák kurátora', 2.0)]\n",
      "11.0 [('Ferkai András', 8.0), ('Herpai András', 3.0)]\n",
      "6.0 [('Dobrik István', 4.0), ('Dr.Dobrik István', 2.0)]\n",
      "5.0 [('a Ludwig Múzeum - Kortárs Művészeti Múzeum Gyűjteményi', 1.0), ('a Ludwig Múzeum - Kortárs Művészeti Múzeum igazgatója', 4.0)]\n",
      "12.0 [('Mátrai Erika', 2.0), ('Mátrai Erik', 10.0)]\n",
      "15.0 [('Bodor Lilla', 11.0), ('Bodor Lila', 4.0)]\n",
      "20.0 [('Mink Andras', 1.0), ('Mink András', 19.0)]\n",
      "9.0 [('Novotny Tihamer', 1.0), ('Novotny Tihamér', 8.0)]\n",
      "10.0 [('Tóth Menyhért.', 2.0), ('Tóth Menyhért', 8.0)]\n",
      "11.0 [('Zsenia Bozukova', 5.0), ('Zhenia Bozukova', 6.0)]\n",
      "6.0 [('Kaján Tibor', 2.0), ('Zalán Tibor', 4.0)]\n",
      "61.0 [('Timár Katalin', 59.0), ('Timár Katalin Phd', 2.0)]\n",
      "11.0 [('Farkas Zsófi', 7.0), ('Faur Zsófi', 4.0)]\n",
      "14.0 [('Sajgó Attila', 4.0), ('Szabó Attila', 10.0)]\n",
      "11.0 [('Zbigniew Rybczyñski', 9.0), ('Zbigniew Rybczynski', 2.0)]\n",
      "24.0 [('Katarina ©evic', 2.0), ('Katarina Sevic', 22.0)]\n",
      "6.0 [('randomroutines', 2.0), ('Randomroutines', 4.0)]\n",
      "8.0 [('Bakos András', 6.0), ('Botos András', 2.0)]\n",
      "12.0 [('Zékany Diána', 2.0), ('Zékány Dia', 10.0)]\n",
      "24.0 [('Andor Anikó', 2.0), ('Bodor Anikó', 22.0)]\n",
      "11.0 [('Hernádi László', 2.0), ('Hemrik László', 9.0)]\n",
      "8.0 [('Jánisi Anna', 2.0), ('Jánosi Anna', 6.0)]\n",
      "5.0 [('Zoltán Sándor', 2.0), ('Hollán Sándor', 3.0)]\n",
      "12.0 [('Fekete István', 2.0), ('Demeter István', 10.0)]\n",
      "8.0 [('a Magyar Építőművészek Szövetségének alelnöke', 2.0), ('Sáros László  a Magyar Építőművészek Szövetségének elnöke', 6.0)]\n",
      "11.0 [('Radnóti Sándor', 9.0), ('Dr. Radnóti Sándor', 2.0)]\n",
      "14.0 [('Tóth Krisztina', 12.0), ('Tóth Krisztina író', 2.0)]\n",
      "16.0 [('Drozdik Orsolya', 14.0), ('Orshi Drozdik Orsolya', 2.0)]\n",
      "5.0 [('műgyűjtő', 4.0), ('gyűjtő', 1.0)]\n",
      "44.0 [('Lévai Jenő', 4.0), ('Lévay Jenő', 40.0)]\n",
      "5.0 [('Sarkantyú Illés', 3.0), ('Sarkantyu Illés', 2.0)]\n",
      "6.0 [('a Népszava fotóriportere', 4.0), ('a Népszabadság fotóriporterével', 2.0)]\n",
      "33.0 [('Magyar Gábor', 1.0), ('Nagy Gábor', 32.0)]\n",
      "21.0 [('Tillmann J. A.', 19.0), ('Tillman J.A.', 2.0)]\n",
      "6.0 [('Lei Ben Ben', 4.0), ('Lei Benben', 2.0)]\n",
      "8.0 [('Baky Péter festőművész', 4.0), ('Somody Péter festőművész', 4.0)]\n",
      "35.0 [('Andrási gábor', 2.0), ('Andrási Gábor', 33.0)]\n",
      "6.0 [('nagy Gábor György', 2.0), ('Nagy Gábor György', 4.0)]\n",
      "6.0 [('Sanna Härkönen', 4.0), ('Sanna Harkonen', 2.0)]\n",
      "16.0 [('Polyák Levente KÉK', 4.0), ('Polyák Levente', 12.0)]\n",
      "19.0 [('Szűts Miklós', 2.0), ('Szüts Miklós', 17.0)]\n",
      "6.0 [('Raatzsch Jenő André H/D', 2.0), ('Raatzsch Jenő André', 4.0)]\n",
      "19.0 [('Büki Zsuzsanna', 15.0), ('Bakonyi Zsuzsanna', 4.0)]\n"
     ]
    }
   ],
   "source": [
    "G = nx.Graph()\n",
    "\n",
    "delay_limit      = 2*365\n",
    "similarity_limit = 80\n",
    "frequency_limit  = 4\n",
    "total_weight     = 5\n",
    "\n",
    "for n1, n2, s in pairs_similarities:\n",
    "    if s > similarity_limit:\n",
    "        \n",
    "\n",
    "        start1 = names_first[cleaned2original[n1].strip()]\n",
    "        start2 = names_first[cleaned2original[n2].strip()]\n",
    "        \n",
    "        end1 = names_last[cleaned2original[n1].strip()]\n",
    "        end2 = names_last[cleaned2original[n2].strip()]        \n",
    "        \n",
    "        cnt1 = names_cnt[cleaned2original[n1]]\n",
    "        cnt2 = names_cnt[cleaned2original[n2]]    \n",
    "        \n",
    " \n",
    "        delay = getOverlap([start1, end1], [start2, end2])\n",
    "    \n",
    "        if delay < delay_limit:\n",
    "            \n",
    "        \n",
    "            G.add_edge(n1, n2, weight = s)\n",
    "\n",
    "print('Number of edges: ', len(G.edges))\n",
    "\n",
    "components = sorted(nx.connected_components(G), key=len, reverse=True)\n",
    "\n",
    "print('Number of similarity clusters: ', len(components))\n",
    "for c in components:\n",
    "    \n",
    "    component_weight = sum([names_cnt[cleaned2original[cc]] for cc in c])\n",
    "    \n",
    "    if component_weight >= total_weight: \n",
    "        print(component_weight, list([(cc, names_cnt[cleaned2original[cc]]) for cc in c]))"
   ]
  },
  {
   "cell_type": "markdown",
   "metadata": {},
   "source": [
    "### Frequency distribution"
   ]
  },
  {
   "cell_type": "code",
   "execution_count": 135,
   "metadata": {},
   "outputs": [
    {
     "name": "stdout",
     "output_type": "stream",
     "text": [
      "1 \t 22944\n",
      "2 \t 6948\n",
      "3 \t 5868\n",
      "4 \t 3740\n",
      "5 \t 3244\n",
      "6 \t 2560\n",
      "7 \t 2269\n",
      "8 \t 1920\n",
      "9 \t 1736\n"
     ]
    },
    {
     "data": {
      "image/png": "[encoded data removed]",
      "text/plain": [
       "<Figure size 432x288 with 1 Axes>"
      ]
     },
     "metadata": {
      "needs_background": "light"
     },
     "output_type": "display_data"
    }
   ],
   "source": [
    "plt.hist(names_cnt.values(), bins = 30)\n",
    "plt.yscale('log')\n",
    "for i in range(1,10):\n",
    "    print(i, '\\t', len([_ for _ in names_cnt.values() if _ > i]))"
   ]
  },
  {
   "cell_type": "code",
   "execution_count": null,
   "metadata": {},
   "outputs": [],
   "source": [
    "--- több név egy sorban\n",
    "\n",
    "AATOTH • BODÓCZKY • BÖRÖCZ • BUKTA • CZIGÁNY • FEHÉR • FELUGOSSY • GILOT • GYŐRFFY • HERBST • HERMAN • HOLLÓS • JOVANOVICS • KAZOVSZKIJ • KESERÜ • KORNISS • MISETICS • MULASICS • NÁDLER • RÁCMOLNÁR • ROZSDA • SZIRTES • SZOTYORY • UJHÁZI • VÁRADY,\n",
    "ANDREJKOVICS ZOLTÁN | BEÖTHY BALÁZS | LISA BUTTINGER | EIKE BERG | ELŐD ÁGNES | ERHARDT MIKLÓS | FELVIDÉKI MIKLÓS | GUTEMA DÁVID | IMPLAUSIBLE WORKS (SZEKERES AGNUS,"
   ]
  }
 ],
 "metadata": {
  "kernelspec": {
   "display_name": "Python 3",
   "language": "python",
   "name": "python3"
  },
  "language_info": {
   "codemirror_mode": {
    "name": "ipython",
    "version": 3
   },
   "file_extension": ".py",
   "mimetype": "text/x-python",
   "name": "python",
   "nbconvert_exporter": "python",
   "pygments_lexer": "ipython3",
   "version": "3.5.2"
  }
 },
 "nbformat": 4,
 "nbformat_minor": 2
}
